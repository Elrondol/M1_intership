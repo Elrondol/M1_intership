{
 "cells": [
  {
   "cell_type": "code",
   "execution_count": 5,
   "id": "dfb36309-4fea-4cc8-851d-0ae8f040f5a4",
   "metadata": {
    "tags": []
   },
   "outputs": [],
   "source": [
    "import numpy as np\n",
    "import pandas as pd\n",
    "import matplotlib.pyplot as plt\n",
    "import scipy as sp\n",
    "import time"
   ]
  },
  {
   "cell_type": "code",
   "execution_count": 6,
   "id": "fea1ae0e-c1cd-410a-b76a-50f260b67072",
   "metadata": {
    "tags": []
   },
   "outputs": [],
   "source": [
    "def rosen(m):\n",
    "    return (1-m[0,0])**2+100*(m[1,0]-m[0,0]**2)**2\n",
    "\n",
    "def grad_rosen(m):\n",
    "    grad = np.zeros((2,1))\n",
    "    grad[0,0] = -2*(1-m[0,0])+100*2*(-2*m[0,0])*(m[1,0]-m[0,0]**2)\n",
    "    grad[1,0] = 100*2*(m[1,0]-m[0,0]**2)\n",
    "    return grad\n",
    "\n",
    "def lineasearch(m,alpha,p):\n",
    "    c1, c2 = 1e-4, 0.9\n",
    "    grad = grad_rosen(m)\n",
    "    gradTp = grad.T@p\n",
    "    cond2 = False\n",
    "    \n",
    "    while cond2==False:\n",
    "        if rosen(m+alpha*p) <= rosen(m) + c1*alpha*gradTp:\n",
    "            if grad_rosen(m+alpha*p).T@p >= c2*gradTp:\n",
    "                cond2= True\n",
    "            else:\n",
    "                alpha = alpha*10\n",
    "                \n",
    "        else :\n",
    "            alpha = alpha/2\n",
    "    return alpha\n",
    "\n",
    "def minimize(m, alpha, epsilon):\n",
    "    conv = False\n",
    "    i= 0 \n",
    "    time1 = time.time()\n",
    "    while conv==False:\n",
    "        p = -grad_rosen(m)\n",
    "        alpha = lineasearch(m,alpha,p)\n",
    "        ap =  alpha*p\n",
    "        m += ap\n",
    "        if ap.T@ap < epsilon:\n",
    "            conv = True\n",
    "    time2 = time.time()\n",
    "    times = np.array([[time1],[time2],[time2-time1]])\n",
    "    return m, times\n",
    "m0 = np.zeros((2,1))\n",
    "m,times = minimize(m0, 50, 1e-12)"
   ]
  },
  {
   "cell_type": "code",
   "execution_count": 7,
   "id": "6c89451f-62c4-43bf-8186-ac1f4c68ea3f",
   "metadata": {},
   "outputs": [],
   "source": [
    "dataset = pd.DataFrame({'parameters': m[:,0], 'times': times[1:,0]})\n",
    "np.savetxt('output.txt', dataset)"
   ]
  },
  {
   "cell_type": "code",
   "execution_count": 8,
   "id": "6b490b0b-6acf-4f2c-bd59-5c18f39c151d",
   "metadata": {},
   "outputs": [
    {
     "name": "stdout",
     "output_type": "stream",
     "text": [
      "   parameters         times\n",
      "0    0.999104  1.683276e+09\n",
      "1    0.998205  2.887602e-01\n"
     ]
    }
   ],
   "source": [
    "print(dataset)"
   ]
  },
  {
   "cell_type": "code",
   "execution_count": null,
   "id": "59677ad5-2f6a-4745-b961-42ea8ffdff15",
   "metadata": {},
   "outputs": [],
   "source": []
  }
 ],
 "metadata": {
  "kernelspec": {
   "display_name": "Python 3 (ipykernel)",
   "language": "python",
   "name": "python3"
  },
  "language_info": {
   "codemirror_mode": {
    "name": "ipython",
    "version": 3
   },
   "file_extension": ".py",
   "mimetype": "text/x-python",
   "name": "python",
   "nbconvert_exporter": "python",
   "pygments_lexer": "ipython3",
   "version": "3.10.10"
  }
 },
 "nbformat": 4,
 "nbformat_minor": 5
}
